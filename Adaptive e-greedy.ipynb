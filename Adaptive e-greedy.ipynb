{
 "cells": [
  {
   "cell_type": "code",
   "execution_count": 1,
   "metadata": {},
   "outputs": [],
   "source": [
    "import math\n",
    "import random\n",
    "import seaborn as sns\n",
    "import pandas as pd\n",
    "import numpy as np\n",
    "import matplotlib.pyplot as plt\n",
    "from server_pull import *\n",
    "import random"
   ]
  },
  {
   "cell_type": "code",
   "execution_count": 2,
   "metadata": {},
   "outputs": [],
   "source": [
    "#Initialize Variables\n",
    "N = 1000      # the time (or round) - 1 million\n",
    "d = 24                   # number of possible variables\n",
    "# Qt_a = 0\n",
    "Nt_a = np.zeros(d)      #number of times arm a has been selected prior to T\n",
    "#                         #If Nt(a) = 0, then a is considered to be a maximizing action.\n",
    "# c = 1                   \n",
    "sum_rewards = np.zeros(d) \n",
    "\n",
    "hist_t = [] #holds the natural log of each round\n",
    "hist_achieved_rewards = [] #holds the history of the UCB CHOSEN cumulative rewards\n",
    "hist_arm_selected = []     #holds the history of the arm selected for each time\n",
    "hist_best_possible_rewards = [] #holds the history of OPTIMAL cumulative rewards\n",
    "hist_random_choice_rewards = [] #holds the history of RANDONMLY selected actions rewards"
   ]
  },
  {
   "cell_type": "code",
   "execution_count": 3,
   "metadata": {},
   "outputs": [],
   "source": [
    "def number_of_certain_prob(seq, prob):\n",
    "    x = random.uniform(0, 1)\n",
    "    cumulative_prob = 0.0\n",
    "    for item, item_prob in zip(seq, prob):\n",
    "        cumulative_prob += item_prob\n",
    "        if x < cumulative_prob:\n",
    "            break\n",
    "    return item"
   ]
  },
  {
   "cell_type": "code",
   "execution_count": 4,
   "metadata": {},
   "outputs": [],
   "source": [
    "#loop through no of rounds #t = time\n",
    "action_selected = 1\n",
    "for t in range(1,N+1):\n",
    "    e = 1/t\n",
    "    e_unit = 1/t/d\n",
    "    seq = list(range(0,d))\n",
    "    avg = []\n",
    "    for i in range(len(sum_rewards)):\n",
    "        if Nt_a[i] == 0:\n",
    "            avg.append(0)\n",
    "        else:\n",
    "            avg.append(sum_rewards[i]/Nt_a[i])\n",
    "    idx = avg.index(max(avg))\n",
    "    prob = np.ones(d)*e_unit\n",
    "    prob[idx] = prob[idx]+1-e\n",
    "    action_selected = number_of_certain_prob(seq,prob)\n",
    "    #update Values as of round t\n",
    "    Nt_a[action_selected] += 1\n",
    "    reward = pull('user7', 'XTkjktIc', action_selected)['Reward']\n",
    "    sum_rewards[action_selected] += reward\n",
    "    hist_achieved_rewards.append(reward)\n",
    "    hist_arm_selected.append(action_selected+1)"
   ]
  },
  {
   "cell_type": "code",
   "execution_count": 5,
   "metadata": {},
   "outputs": [],
   "source": [
    "# Output the results(1000 pulls)\n",
    "pull_hist = pd.DataFrame({'t': np.array(range(1,N+1)), \n",
    "                          'rewards': hist_achieved_rewards, \n",
    "                          'arm_selected': hist_arm_selected})\n",
    "results = pd.DataFrame({'Num_arms_selected': Nt_a, 'Sum_rewards_arms': sum_rewards})"
   ]
  },
  {
   "cell_type": "code",
   "execution_count": 6,
   "metadata": {},
   "outputs": [],
   "source": [
    "pull_hist.to_csv('pull_hist.csv')\n",
    "results.to_csv('pull_results.csv')"
   ]
  },
  {
   "cell_type": "code",
   "execution_count": 7,
   "metadata": {},
   "outputs": [],
   "source": [
    "# # toy test\n",
    "# N = 1000\n",
    "# d = 24\n",
    "# t = 2\n",
    "# action_selected = 1\n",
    "# e = 1/t\n",
    "# e_unit = 1/t/d\n",
    "# seq = list(range(0,d))\n",
    "# avg = []\n",
    "# for i in range(len(sum_rewards)):\n",
    "#     if Nt_a[i] == 0:\n",
    "#         avg.append(0)\n",
    "#     else:\n",
    "#         avg.append(sum_rewards[i]/Nt_a[i])\n",
    "# idx = avg.index(max(avg))\n",
    "# prob = np.ones(d)*e_unit\n",
    "# prob[idx] = prob[idx]+1-e\n",
    "# action_selected = number_of_certain_prob(seq,prob)\n",
    "# print(\"e:\",e)\n",
    "# print(\"e_unit:\",e_unit)\n",
    "# print(\"seq:\",seq)\n",
    "# print(\"idx:\",idx)\n",
    "# print(\"prob:\",prob)\n",
    "# print(\"action_selected:\",action_selected)"
   ]
  },
  {
   "cell_type": "code",
   "execution_count": 8,
   "metadata": {
    "scrolled": true
   },
   "outputs": [
    {
     "data": {
      "text/plain": [
       "array([0.0000e+00, 0.0000e+00, 0.0000e+00, 0.0000e+00, 8.3100e+02,\n",
       "       0.0000e+00, 0.0000e+00, 0.0000e+00, 0.0000e+00, 0.0000e+00,\n",
       "       1.4259e+04, 6.0000e+00, 0.0000e+00, 0.0000e+00, 0.0000e+00,\n",
       "       1.5000e+01, 0.0000e+00, 5.0000e+00, 0.0000e+00, 0.0000e+00,\n",
       "       0.0000e+00, 3.0000e+00, 0.0000e+00, 2.3590e+03])"
      ]
     },
     "execution_count": 8,
     "metadata": {},
     "output_type": "execute_result"
    }
   ],
   "source": [
    "# Total reward from each arms\n",
    "sum_rewards"
   ]
  },
  {
   "cell_type": "code",
   "execution_count": 9,
   "metadata": {},
   "outputs": [
    {
     "data": {
      "text/plain": [
       "17478.0"
      ]
     },
     "execution_count": 9,
     "metadata": {},
     "output_type": "execute_result"
    }
   ],
   "source": [
    "sum(sum_rewards)"
   ]
  },
  {
   "cell_type": "code",
   "execution_count": 10,
   "metadata": {},
   "outputs": [
    {
     "data": {
      "text/plain": [
       "array([  0.,   0.,   0.,   0.,  79.,   0.,   0.,   0.,   0.,   0., 778.,\n",
       "         1.,   0.,   0.,   0.,   1.,   0.,   1.,   0.,   0.,   0.,   1.,\n",
       "         0., 139.])"
      ]
     },
     "execution_count": 10,
     "metadata": {},
     "output_type": "execute_result"
    }
   ],
   "source": [
    "# Number of times each arm was Selected\n",
    "Nt_a"
   ]
  },
  {
   "cell_type": "code",
   "execution_count": 11,
   "metadata": {},
   "outputs": [
    {
     "data": {
      "image/png": "[encoded data removed]",
      "text/plain": [
       "<Figure size 1080x360 with 2 Axes>"
      ]
     },
     "metadata": {
      "needs_background": "light"
     },
     "output_type": "display_data"
    }
   ],
   "source": [
    "plt.figure(figsize = (15,5))\n",
    "plt.subplot(121)\n",
    "plt.bar(range(1,25),sum_rewards)\n",
    "plt.title(\"Total reward from each arms\")\n",
    "plt.xlabel('Arms chosen')\n",
    "plt.ylabel('Sum Rewards')\n",
    "plt.xticks(range(1,25))\n",
    "plt.xlim(1,24)\n",
    "\n",
    "plt.subplot(122)\n",
    "plt.bar(range(1,25),Nt_a)\n",
    "plt.title(\"Number of times each arm was Selected\")\n",
    "plt.xlabel('Arms chosen')\n",
    "plt.ylabel('times')\n",
    "plt.xticks(range(1,25))\n",
    "plt.xlim(1,24)\n",
    "plt.show()"
   ]
  },
  {
   "cell_type": "code",
   "execution_count": 12,
   "metadata": {},
   "outputs": [
    {
     "name": "stdout",
     "output_type": "stream",
     "text": [
      "[0, 0, 0, 0, 10.518987341772151, 0, 0, 0, 0, 0, 18.32776349614396, 6.0, 0, 0, 0, 15.0, 0, 5.0, 0, 0, 0, 3.0, 0, 16.971223021582734]\n",
      "849.763496143958\n"
     ]
    }
   ],
   "source": [
    "avg = []\n",
    "for i in range(len(sum_rewards)):\n",
    "    if Nt_a[i] == 0:\n",
    "        avg.append(0)\n",
    "    else:\n",
    "        avg.append(sum_rewards[i]/Nt_a[i])\n",
    "print(avg)\n",
    "regret = max(avg)*N-sum(sum_rewards)\n",
    "print(regret)"
   ]
  },
  {
   "cell_type": "code",
   "execution_count": 13,
   "metadata": {},
   "outputs": [],
   "source": [
    "# reward = pull('user7', 'XTkjktIc', 0)\n",
    "# reward"
   ]
  },
  {
   "cell_type": "code",
   "execution_count": null,
   "metadata": {},
   "outputs": [],
   "source": []
  }
 ],
 "metadata": {
  "kernelspec": {
   "display_name": "Python 3",
   "language": "python",
   "name": "python3"
  },
  "language_info": {
   "codemirror_mode": {
    "name": "ipython",
    "version": 3
   },
   "file_extension": ".py",
   "mimetype": "text/x-python",
   "name": "python",
   "nbconvert_exporter": "python",
   "pygments_lexer": "ipython3",
   "version": "3.7.4"
  }
 },
 "nbformat": 4,
 "nbformat_minor": 5
}
