{
 "cells": [
  {
   "cell_type": "code",
   "execution_count": 1,
   "metadata": {},
   "outputs": [],
   "source": [
    "import math\n",
    "import random\n",
    "import seaborn as sns\n",
    "import pandas as pd\n",
    "import numpy as np\n",
    "import matplotlib.pyplot as plt\n",
    "from server_pull import *"
   ]
  },
  {
   "cell_type": "code",
   "execution_count": 2,
   "metadata": {},
   "outputs": [],
   "source": [
    "#Initialize Variables\n",
    "N = 1000      # the time (or round) - 1 million\n",
    "d = 24                   # number of possible variables\n",
    "Qt_a = 0\n",
    "Nt_a = np.zeros(d)      #number of times arm a has been selected prior to T\n",
    "                        #If Nt(a) = 0, then a is considered to be a maximizing action.\n",
    "c = 1                   \n",
    "sum_rewards = np.zeros(d) \n",
    "\n",
    "hist_t = [] #holds the natural log of each round\n",
    "hist_achieved_rewards = [] #holds the history of the UCB CHOSEN cumulative rewards\n",
    "hist_arm_selected = []     #holds the history of the arm selected for each time\n",
    "hist_best_possible_rewards = [] #holds the history of OPTIMAL cumulative rewards\n",
    "hist_random_choice_rewards = [] #holds the history of RANDONMLY selected actions rewards"
   ]
  },
  {
   "cell_type": "code",
   "execution_count": 3,
   "metadata": {},
   "outputs": [],
   "source": [
    "#loop through no of rounds #t = time\n",
    "for t in range(1,N+1):\n",
    "    UCB_Values = np.zeros(d) #array holding the ucb values. we pick the max  \n",
    "    action_selected = 0\n",
    "    for a in range(0, d):\n",
    "        if (Nt_a[a] > 0):\n",
    "            ln_t = math.log(t) #natural log of t\n",
    "            hist_t.append(ln_t) #to plot natural log of t\n",
    "            #calculate the UCB\n",
    "            Qt_a = sum_rewards[a]/Nt_a[a]  \n",
    "            UCB_Values[a] = Qt_a + c*(ln_t/Nt_a[a])\n",
    "        #if this equals zero, choose as the maximum. Cant divide by negative     \n",
    "        elif (Nt_a[a] == 0):\n",
    "            UCB_Values[a] = 1e50 #make large value\n",
    "        \n",
    "    #select the max UCB value\n",
    "    action_selected = np.argmax(UCB_Values)\n",
    "    #update Values as of round t\n",
    "    Nt_a[action_selected] += 1\n",
    "    reward = pull('user7', 'XTkjktIc', action_selected)['Reward']\n",
    "    sum_rewards[action_selected] += reward\n",
    "    hist_achieved_rewards.append(reward)\n",
    "    hist_arm_selected.append(action_selected+1)\n",
    "    \n",
    "    # We don't know other selections for time t. \n",
    "#     r_ = df.values[t,[1,2,3,4]]     #get all rewards for time t to a vector\n",
    "#     r_best = r_[np.argmax(r_)]      #select the best action\n",
    "    \n",
    "#     pick_random = random.randrange(d) #choose an action randomly\n",
    "#     r_random = r_[pick_random] #np.random.choice(r_) #select reward for random action\n",
    "#     if len(hist_achieved_rewards)>0:\n",
    "#         hist_achieved_rewards.append(hist_achieved_rewards[-1]+reward)\n",
    "# #         hist_best_possible_rewards.append(hist_best_possible_rewards[-1]+r_best)\n",
    "#         hist_random_choice_rewards.append(hist_random_choice_rewards[-1]+r_random)\n",
    "#     else:\n",
    "#         \n",
    "#         hist_best_possible_rewards.append(r_best)\n",
    "#         hist_random_choice_rewards.append(r_random)"
   ]
  },
  {
   "cell_type": "code",
   "execution_count": 4,
   "metadata": {},
   "outputs": [
    {
     "name": "stdout",
     "output_type": "stream",
     "text": [
      "1000\n",
      "1000\n",
      "1000\n",
      "24\n",
      "24\n"
     ]
    }
   ],
   "source": [
    "print(len(np.array(range(1,N+1))))\n",
    "print(len(hist_achieved_rewards))\n",
    "print(len(hist_arm_selected))\n",
    "print(len(sum_rewards))\n",
    "print(len(Nt_a))"
   ]
  },
  {
   "cell_type": "code",
   "execution_count": 5,
   "metadata": {
    "scrolled": true
   },
   "outputs": [],
   "source": [
    "# Output the results(1000 pulls)\n",
    "pull_hist = pd.DataFrame({'t': np.array(range(1,N+1)), \n",
    "                          'rewards': hist_achieved_rewards, \n",
    "                          'arm_selected': hist_arm_selected})\n",
    "results = pd.DataFrame({'Num_arms_selected': Nt_a, 'Sum_rewards_arms': sum_rewards})"
   ]
  },
  {
   "cell_type": "code",
   "execution_count": 6,
   "metadata": {},
   "outputs": [],
   "source": [
    "pull_hist.to_csv('pull_hist.csv')\n",
    "results.to_csv('pull_results.csv')"
   ]
  },
  {
   "cell_type": "code",
   "execution_count": 7,
   "metadata": {},
   "outputs": [
    {
     "data": {
      "text/plain": [
       "array([1.0000e+01, 3.3000e+01, 6.3000e+01, 1.6000e+01, 1.2000e+01,\n",
       "       1.0800e+02, 8.2000e+01, 1.4000e+01, 3.7000e+01, 1.1100e+02,\n",
       "       4.1000e+01, 7.0000e+00, 1.1500e+02, 1.1000e+01, 1.7000e+01,\n",
       "       1.3000e+01, 2.3443e+04, 6.0000e+00, 7.0000e+00, 1.6000e+01,\n",
       "       1.7000e+01, 1.0000e+01, 4.0000e+00, 1.7000e+01])"
      ]
     },
     "execution_count": 7,
     "metadata": {},
     "output_type": "execute_result"
    }
   ],
   "source": [
    "# Number of times each arm was Selected\n",
    "sum_rewards"
   ]
  },
  {
   "cell_type": "code",
   "execution_count": 8,
   "metadata": {},
   "outputs": [
    {
     "data": {
      "image/png": "[encoded data removed]",
      "text/plain": [
       "<Figure size 1080x360 with 2 Axes>"
      ]
     },
     "metadata": {
      "needs_background": "light"
     },
     "output_type": "display_data"
    }
   ],
   "source": [
    "plt.figure(figsize = (15,5))\n",
    "plt.subplot(121)\n",
    "plt.bar(range(1,25),sum_rewards)\n",
    "plt.title(\"Total reward from each arms\")\n",
    "plt.xlabel('Arms chosen')\n",
    "plt.ylabel('Sum Rewards')\n",
    "plt.xticks(range(1,25))\n",
    "plt.xlim(1,24)\n",
    "\n",
    "plt.subplot(122)\n",
    "plt.bar(range(1,25),Nt_a)\n",
    "plt.title(\"Number of times each arm was Selected\")\n",
    "plt.xlabel('Arms chosen')\n",
    "plt.ylabel('times')\n",
    "plt.xticks(range(1,25))\n",
    "plt.xlim(1,24)\n",
    "plt.show()"
   ]
  },
  {
   "cell_type": "code",
   "execution_count": 10,
   "metadata": {},
   "outputs": [
    {
     "name": "stdout",
     "output_type": "stream",
     "text": [
      "[10.0, 16.5, 21.0, 16.0, 12.0, 21.6, 20.5, 14.0, 18.5, 22.2, 20.5, 7.0, 23.0, 11.0, 17.0, 13.0, 24.49634273772205, 6.0, 7.0, 16.0, 17.0, 10.0, 4.0, 17.0]\n",
      "286.3427377220505\n"
     ]
    }
   ],
   "source": [
    "avg = []\n",
    "for i in range(len(sum_rewards)):\n",
    "    if Nt_a[i] == 0:\n",
    "        avg.append(0)\n",
    "    else:\n",
    "        avg.append(sum_rewards[i]/Nt_a[i])\n",
    "print(avg)\n",
    "regret = max(avg)*N-sum(sum_rewards)\n",
    "print(regret)"
   ]
  },
  {
   "cell_type": "code",
   "execution_count": null,
   "metadata": {},
   "outputs": [],
   "source": [
    "# reward = pull('user7', 'XTkjktIc', action_selected)\n",
    "# reward"
   ]
  }
 ],
 "metadata": {
  "kernelspec": {
   "display_name": "Python 3",
   "language": "python",
   "name": "python3"
  },
  "language_info": {
   "codemirror_mode": {
    "name": "ipython",
    "version": 3
   },
   "file_extension": ".py",
   "mimetype": "text/x-python",
   "name": "python",
   "nbconvert_exporter": "python",
   "pygments_lexer": "ipython3",
   "version": "3.7.4"
  }
 },
 "nbformat": 4,
 "nbformat_minor": 5
}
